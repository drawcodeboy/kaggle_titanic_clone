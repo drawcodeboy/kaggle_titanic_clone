{
 "cells": [
  {
   "cell_type": "code",
   "execution_count": 1,
   "id": "d5db8d1f",
   "metadata": {
    "_cell_guid": "b1076dfc-b9ad-4769-8c92-a6c4dae69d19",
    "_uuid": "8f2839f25d086af736a60e9eeb907d3b93b6e0e5",
    "execution": {
     "iopub.execute_input": "2022-09-17T13:40:14.231059Z",
     "iopub.status.busy": "2022-09-17T13:40:14.230613Z",
     "iopub.status.idle": "2022-09-17T13:40:14.244277Z",
     "shell.execute_reply": "2022-09-17T13:40:14.242963Z"
    },
    "papermill": {
     "duration": 0.02527,
     "end_time": "2022-09-17T13:40:14.247200",
     "exception": false,
     "start_time": "2022-09-17T13:40:14.221930",
     "status": "completed"
    },
    "tags": []
   },
   "outputs": [
    {
     "name": "stdout",
     "output_type": "stream",
     "text": [
      "/kaggle/input/titanic/train.csv\n",
      "/kaggle/input/titanic/test.csv\n",
      "/kaggle/input/titanic/gender_submission.csv\n"
     ]
    }
   ],
   "source": [
    "# 초기화\n",
    "\n",
    "# This Python 3 environment comes with many helpful analytics libraries installed\n",
    "# It is defined by the kaggle/python Docker image: https://github.com/kaggle/docker-python\n",
    "# For example, here's several helpful packages to load\n",
    "\n",
    "import numpy as np # linear algebra\n",
    "import pandas as pd # data processing, CSV file I/O (e.g. pd.read_csv)\n",
    "\n",
    "# Input data files are available in the read-only \"../input/\" directory\n",
    "# For example, running this (by clicking run or pressing Shift+Enter) will list all files under the input directory\n",
    "\n",
    "import os\n",
    "for dirname, _, filenames in os.walk('/kaggle/input'):\n",
    "    for filename in filenames:\n",
    "        print(os.path.join(dirname, filename))\n",
    "\n",
    "# You can write up to 20GB to the current directory (/kaggle/working/) that gets preserved as output when you create a version using \"Save & Run All\" \n",
    "# You can also write temporary files to /kaggle/temp/, but they won't be saved outside of the current session"
   ]
  },
  {
   "cell_type": "code",
   "execution_count": 2,
   "id": "9f1be594",
   "metadata": {
    "execution": {
     "iopub.execute_input": "2022-09-17T13:40:14.261330Z",
     "iopub.status.busy": "2022-09-17T13:40:14.260573Z",
     "iopub.status.idle": "2022-09-17T13:40:15.269622Z",
     "shell.execute_reply": "2022-09-17T13:40:15.268749Z"
    },
    "papermill": {
     "duration": 1.018162,
     "end_time": "2022-09-17T13:40:15.272016",
     "exception": false,
     "start_time": "2022-09-17T13:40:14.253854",
     "status": "completed"
    },
    "tags": []
   },
   "outputs": [],
   "source": [
    "# 필요한 라이브러리 가져오기\n",
    "\n",
    "import numpy as np\n",
    "import pandas as pd\n",
    "import matplotlib.pyplot as plt\n",
    "import seaborn as sns\n",
    "\n",
    "plt.style.use('seaborn')\n",
    "sns.set(font_scale=2.5)\n",
    "\n",
    "# Null data를 쉽게 확인하기 위한 라이브러리, missingno\n",
    "import missingno as msno\n",
    "# ignore warnings: 경고가 많기 때문에 이를 무시\n",
    "import warnings\n",
    "warnings.filterwarnings('ignore')\n",
    "# notebook을 실행한 브라우저에서 창을 띄우는 게 아닌 바로 그림을 볼 수 있게\n",
    "%matplotlib inline"
   ]
  },
  {
   "cell_type": "markdown",
   "id": "d3dfb6e6",
   "metadata": {
    "papermill": {
     "duration": 0.007437,
     "end_time": "2022-09-17T13:40:15.285308",
     "exception": false,
     "start_time": "2022-09-17T13:40:15.277871",
     "status": "completed"
    },
    "tags": []
   },
   "source": [
    "# 1. Dataset 확인"
   ]
  },
  {
   "cell_type": "code",
   "execution_count": 3,
   "id": "89aab363",
   "metadata": {
    "execution": {
     "iopub.execute_input": "2022-09-17T13:40:15.303978Z",
     "iopub.status.busy": "2022-09-17T13:40:15.302694Z",
     "iopub.status.idle": "2022-09-17T13:40:15.342365Z",
     "shell.execute_reply": "2022-09-17T13:40:15.341220Z"
    },
    "papermill": {
     "duration": 0.05267,
     "end_time": "2022-09-17T13:40:15.346079",
     "exception": false,
     "start_time": "2022-09-17T13:40:15.293409",
     "status": "completed"
    },
    "tags": []
   },
   "outputs": [],
   "source": [
    "# 데이터 가져오기\n",
    "\n",
    "df_train = pd.read_csv('../input/titanic/train.csv')\n",
    "df_test = pd.read_csv('../input/titanic/test.csv')"
   ]
  },
  {
   "cell_type": "code",
   "execution_count": 4,
   "id": "866ff39a",
   "metadata": {
    "execution": {
     "iopub.execute_input": "2022-09-17T13:40:15.364041Z",
     "iopub.status.busy": "2022-09-17T13:40:15.363637Z",
     "iopub.status.idle": "2022-09-17T13:40:15.391587Z",
     "shell.execute_reply": "2022-09-17T13:40:15.390710Z"
    },
    "papermill": {
     "duration": 0.040451,
     "end_time": "2022-09-17T13:40:15.394642",
     "exception": false,
     "start_time": "2022-09-17T13:40:15.354191",
     "status": "completed"
    },
    "tags": []
   },
   "outputs": [
    {
     "data": {
      "text/html": [
       "<div>\n",
       "<style scoped>\n",
       "    .dataframe tbody tr th:only-of-type {\n",
       "        vertical-align: middle;\n",
       "    }\n",
       "\n",
       "    .dataframe tbody tr th {\n",
       "        vertical-align: top;\n",
       "    }\n",
       "\n",
       "    .dataframe thead th {\n",
       "        text-align: right;\n",
       "    }\n",
       "</style>\n",
       "<table border=\"1\" class=\"dataframe\">\n",
       "  <thead>\n",
       "    <tr style=\"text-align: right;\">\n",
       "      <th></th>\n",
       "      <th>PassengerId</th>\n",
       "      <th>Survived</th>\n",
       "      <th>Pclass</th>\n",
       "      <th>Name</th>\n",
       "      <th>Sex</th>\n",
       "      <th>Age</th>\n",
       "      <th>SibSp</th>\n",
       "      <th>Parch</th>\n",
       "      <th>Ticket</th>\n",
       "      <th>Fare</th>\n",
       "      <th>Cabin</th>\n",
       "      <th>Embarked</th>\n",
       "    </tr>\n",
       "  </thead>\n",
       "  <tbody>\n",
       "    <tr>\n",
       "      <th>0</th>\n",
       "      <td>1</td>\n",
       "      <td>0</td>\n",
       "      <td>3</td>\n",
       "      <td>Braund, Mr. Owen Harris</td>\n",
       "      <td>male</td>\n",
       "      <td>22.0</td>\n",
       "      <td>1</td>\n",
       "      <td>0</td>\n",
       "      <td>A/5 21171</td>\n",
       "      <td>7.2500</td>\n",
       "      <td>NaN</td>\n",
       "      <td>S</td>\n",
       "    </tr>\n",
       "    <tr>\n",
       "      <th>1</th>\n",
       "      <td>2</td>\n",
       "      <td>1</td>\n",
       "      <td>1</td>\n",
       "      <td>Cumings, Mrs. John Bradley (Florence Briggs Th...</td>\n",
       "      <td>female</td>\n",
       "      <td>38.0</td>\n",
       "      <td>1</td>\n",
       "      <td>0</td>\n",
       "      <td>PC 17599</td>\n",
       "      <td>71.2833</td>\n",
       "      <td>C85</td>\n",
       "      <td>C</td>\n",
       "    </tr>\n",
       "    <tr>\n",
       "      <th>2</th>\n",
       "      <td>3</td>\n",
       "      <td>1</td>\n",
       "      <td>3</td>\n",
       "      <td>Heikkinen, Miss. Laina</td>\n",
       "      <td>female</td>\n",
       "      <td>26.0</td>\n",
       "      <td>0</td>\n",
       "      <td>0</td>\n",
       "      <td>STON/O2. 3101282</td>\n",
       "      <td>7.9250</td>\n",
       "      <td>NaN</td>\n",
       "      <td>S</td>\n",
       "    </tr>\n",
       "    <tr>\n",
       "      <th>3</th>\n",
       "      <td>4</td>\n",
       "      <td>1</td>\n",
       "      <td>1</td>\n",
       "      <td>Futrelle, Mrs. Jacques Heath (Lily May Peel)</td>\n",
       "      <td>female</td>\n",
       "      <td>35.0</td>\n",
       "      <td>1</td>\n",
       "      <td>0</td>\n",
       "      <td>113803</td>\n",
       "      <td>53.1000</td>\n",
       "      <td>C123</td>\n",
       "      <td>S</td>\n",
       "    </tr>\n",
       "    <tr>\n",
       "      <th>4</th>\n",
       "      <td>5</td>\n",
       "      <td>0</td>\n",
       "      <td>3</td>\n",
       "      <td>Allen, Mr. William Henry</td>\n",
       "      <td>male</td>\n",
       "      <td>35.0</td>\n",
       "      <td>0</td>\n",
       "      <td>0</td>\n",
       "      <td>373450</td>\n",
       "      <td>8.0500</td>\n",
       "      <td>NaN</td>\n",
       "      <td>S</td>\n",
       "    </tr>\n",
       "  </tbody>\n",
       "</table>\n",
       "</div>"
      ],
      "text/plain": [
       "   PassengerId  Survived  Pclass  \\\n",
       "0            1         0       3   \n",
       "1            2         1       1   \n",
       "2            3         1       3   \n",
       "3            4         1       1   \n",
       "4            5         0       3   \n",
       "\n",
       "                                                Name     Sex   Age  SibSp  \\\n",
       "0                            Braund, Mr. Owen Harris    male  22.0      1   \n",
       "1  Cumings, Mrs. John Bradley (Florence Briggs Th...  female  38.0      1   \n",
       "2                             Heikkinen, Miss. Laina  female  26.0      0   \n",
       "3       Futrelle, Mrs. Jacques Heath (Lily May Peel)  female  35.0      1   \n",
       "4                           Allen, Mr. William Henry    male  35.0      0   \n",
       "\n",
       "   Parch            Ticket     Fare Cabin Embarked  \n",
       "0      0         A/5 21171   7.2500   NaN        S  \n",
       "1      0          PC 17599  71.2833   C85        C  \n",
       "2      0  STON/O2. 3101282   7.9250   NaN        S  \n",
       "3      0            113803  53.1000  C123        S  \n",
       "4      0            373450   8.0500   NaN        S  "
      ]
     },
     "execution_count": 4,
     "metadata": {},
     "output_type": "execute_result"
    }
   ],
   "source": [
    "df_train.head()"
   ]
  },
  {
   "cell_type": "code",
   "execution_count": 5,
   "id": "7f90167f",
   "metadata": {
    "execution": {
     "iopub.execute_input": "2022-09-17T13:40:15.415694Z",
     "iopub.status.busy": "2022-09-17T13:40:15.414527Z",
     "iopub.status.idle": "2022-09-17T13:40:15.444030Z",
     "shell.execute_reply": "2022-09-17T13:40:15.442521Z"
    },
    "papermill": {
     "duration": 0.042888,
     "end_time": "2022-09-17T13:40:15.446757",
     "exception": false,
     "start_time": "2022-09-17T13:40:15.403869",
     "status": "completed"
    },
    "tags": []
   },
   "outputs": [
    {
     "name": "stdout",
     "output_type": "stream",
     "text": [
      "<class 'pandas.core.frame.DataFrame'>\n",
      "RangeIndex: 891 entries, 0 to 890\n",
      "Data columns (total 12 columns):\n",
      " #   Column       Non-Null Count  Dtype  \n",
      "---  ------       --------------  -----  \n",
      " 0   PassengerId  891 non-null    int64  \n",
      " 1   Survived     891 non-null    int64  \n",
      " 2   Pclass       891 non-null    int64  \n",
      " 3   Name         891 non-null    object \n",
      " 4   Sex          891 non-null    object \n",
      " 5   Age          714 non-null    float64\n",
      " 6   SibSp        891 non-null    int64  \n",
      " 7   Parch        891 non-null    int64  \n",
      " 8   Ticket       891 non-null    object \n",
      " 9   Fare         891 non-null    float64\n",
      " 10  Cabin        204 non-null    object \n",
      " 11  Embarked     889 non-null    object \n",
      "dtypes: float64(2), int64(5), object(5)\n",
      "memory usage: 83.7+ KB\n"
     ]
    }
   ],
   "source": [
    "df_train.info()"
   ]
  },
  {
   "cell_type": "code",
   "execution_count": 6,
   "id": "848e3bf9",
   "metadata": {
    "execution": {
     "iopub.execute_input": "2022-09-17T13:40:15.461309Z",
     "iopub.status.busy": "2022-09-17T13:40:15.460346Z",
     "iopub.status.idle": "2022-09-17T13:40:15.494747Z",
     "shell.execute_reply": "2022-09-17T13:40:15.493554Z"
    },
    "papermill": {
     "duration": 0.043949,
     "end_time": "2022-09-17T13:40:15.496988",
     "exception": false,
     "start_time": "2022-09-17T13:40:15.453039",
     "status": "completed"
    },
    "tags": []
   },
   "outputs": [
    {
     "data": {
      "text/html": [
       "<div>\n",
       "<style scoped>\n",
       "    .dataframe tbody tr th:only-of-type {\n",
       "        vertical-align: middle;\n",
       "    }\n",
       "\n",
       "    .dataframe tbody tr th {\n",
       "        vertical-align: top;\n",
       "    }\n",
       "\n",
       "    .dataframe thead th {\n",
       "        text-align: right;\n",
       "    }\n",
       "</style>\n",
       "<table border=\"1\" class=\"dataframe\">\n",
       "  <thead>\n",
       "    <tr style=\"text-align: right;\">\n",
       "      <th></th>\n",
       "      <th>PassengerId</th>\n",
       "      <th>Survived</th>\n",
       "      <th>Pclass</th>\n",
       "      <th>Age</th>\n",
       "      <th>SibSp</th>\n",
       "      <th>Parch</th>\n",
       "      <th>Fare</th>\n",
       "    </tr>\n",
       "  </thead>\n",
       "  <tbody>\n",
       "    <tr>\n",
       "      <th>count</th>\n",
       "      <td>891.000000</td>\n",
       "      <td>891.000000</td>\n",
       "      <td>891.000000</td>\n",
       "      <td>714.000000</td>\n",
       "      <td>891.000000</td>\n",
       "      <td>891.000000</td>\n",
       "      <td>891.000000</td>\n",
       "    </tr>\n",
       "    <tr>\n",
       "      <th>mean</th>\n",
       "      <td>446.000000</td>\n",
       "      <td>0.383838</td>\n",
       "      <td>2.308642</td>\n",
       "      <td>29.699118</td>\n",
       "      <td>0.523008</td>\n",
       "      <td>0.381594</td>\n",
       "      <td>32.204208</td>\n",
       "    </tr>\n",
       "    <tr>\n",
       "      <th>std</th>\n",
       "      <td>257.353842</td>\n",
       "      <td>0.486592</td>\n",
       "      <td>0.836071</td>\n",
       "      <td>14.526497</td>\n",
       "      <td>1.102743</td>\n",
       "      <td>0.806057</td>\n",
       "      <td>49.693429</td>\n",
       "    </tr>\n",
       "    <tr>\n",
       "      <th>min</th>\n",
       "      <td>1.000000</td>\n",
       "      <td>0.000000</td>\n",
       "      <td>1.000000</td>\n",
       "      <td>0.420000</td>\n",
       "      <td>0.000000</td>\n",
       "      <td>0.000000</td>\n",
       "      <td>0.000000</td>\n",
       "    </tr>\n",
       "    <tr>\n",
       "      <th>25%</th>\n",
       "      <td>223.500000</td>\n",
       "      <td>0.000000</td>\n",
       "      <td>2.000000</td>\n",
       "      <td>20.125000</td>\n",
       "      <td>0.000000</td>\n",
       "      <td>0.000000</td>\n",
       "      <td>7.910400</td>\n",
       "    </tr>\n",
       "    <tr>\n",
       "      <th>50%</th>\n",
       "      <td>446.000000</td>\n",
       "      <td>0.000000</td>\n",
       "      <td>3.000000</td>\n",
       "      <td>28.000000</td>\n",
       "      <td>0.000000</td>\n",
       "      <td>0.000000</td>\n",
       "      <td>14.454200</td>\n",
       "    </tr>\n",
       "    <tr>\n",
       "      <th>75%</th>\n",
       "      <td>668.500000</td>\n",
       "      <td>1.000000</td>\n",
       "      <td>3.000000</td>\n",
       "      <td>38.000000</td>\n",
       "      <td>1.000000</td>\n",
       "      <td>0.000000</td>\n",
       "      <td>31.000000</td>\n",
       "    </tr>\n",
       "    <tr>\n",
       "      <th>max</th>\n",
       "      <td>891.000000</td>\n",
       "      <td>1.000000</td>\n",
       "      <td>3.000000</td>\n",
       "      <td>80.000000</td>\n",
       "      <td>8.000000</td>\n",
       "      <td>6.000000</td>\n",
       "      <td>512.329200</td>\n",
       "    </tr>\n",
       "  </tbody>\n",
       "</table>\n",
       "</div>"
      ],
      "text/plain": [
       "       PassengerId    Survived      Pclass         Age       SibSp  \\\n",
       "count   891.000000  891.000000  891.000000  714.000000  891.000000   \n",
       "mean    446.000000    0.383838    2.308642   29.699118    0.523008   \n",
       "std     257.353842    0.486592    0.836071   14.526497    1.102743   \n",
       "min       1.000000    0.000000    1.000000    0.420000    0.000000   \n",
       "25%     223.500000    0.000000    2.000000   20.125000    0.000000   \n",
       "50%     446.000000    0.000000    3.000000   28.000000    0.000000   \n",
       "75%     668.500000    1.000000    3.000000   38.000000    1.000000   \n",
       "max     891.000000    1.000000    3.000000   80.000000    8.000000   \n",
       "\n",
       "            Parch        Fare  \n",
       "count  891.000000  891.000000  \n",
       "mean     0.381594   32.204208  \n",
       "std      0.806057   49.693429  \n",
       "min      0.000000    0.000000  \n",
       "25%      0.000000    7.910400  \n",
       "50%      0.000000   14.454200  \n",
       "75%      0.000000   31.000000  \n",
       "max      6.000000  512.329200  "
      ]
     },
     "execution_count": 6,
     "metadata": {},
     "output_type": "execute_result"
    }
   ],
   "source": [
    "df_train.describe()\n",
    "# feature 11개, target 1개"
   ]
  },
  {
   "cell_type": "markdown",
   "id": "432740f4",
   "metadata": {
    "papermill": {
     "duration": 0.005889,
     "end_time": "2022-09-17T13:40:15.509060",
     "exception": false,
     "start_time": "2022-09-17T13:40:15.503171",
     "status": "completed"
    },
    "tags": []
   },
   "source": [
    "## 1.1 Null data check"
   ]
  },
  {
   "cell_type": "code",
   "execution_count": 7,
   "id": "9f41a0b6",
   "metadata": {
    "execution": {
     "iopub.execute_input": "2022-09-17T13:40:15.523672Z",
     "iopub.status.busy": "2022-09-17T13:40:15.522432Z",
     "iopub.status.idle": "2022-09-17T13:40:15.540843Z",
     "shell.execute_reply": "2022-09-17T13:40:15.539701Z"
    },
    "papermill": {
     "duration": 0.029039,
     "end_time": "2022-09-17T13:40:15.544194",
     "exception": false,
     "start_time": "2022-09-17T13:40:15.515155",
     "status": "completed"
    },
    "tags": []
   },
   "outputs": [
    {
     "name": "stdout",
     "output_type": "stream",
     "text": [
      "column PassengerId\t Percent of NaN value: 0.00%\n",
      "column   Survived\t Percent of NaN value: 0.00%\n",
      "column     Pclass\t Percent of NaN value: 0.00%\n",
      "column       Name\t Percent of NaN value: 0.00%\n",
      "column        Sex\t Percent of NaN value: 0.00%\n",
      "column        Age\t Percent of NaN value: 19.87%\n",
      "column      SibSp\t Percent of NaN value: 0.00%\n",
      "column      Parch\t Percent of NaN value: 0.00%\n",
      "column     Ticket\t Percent of NaN value: 0.00%\n",
      "column       Fare\t Percent of NaN value: 0.00%\n",
      "column      Cabin\t Percent of NaN value: 77.10%\n",
      "column   Embarked\t Percent of NaN value: 0.22%\n"
     ]
    }
   ],
   "source": [
    "# Null data check\n",
    "\n",
    "for col in df_train.columns:\n",
    "    msg = 'column {:>10}\\t Percent of NaN value: {:.2f}%'.format(col, 100 * (df_train[col].isnull().sum() / df_train[col].shape[0]))\n",
    "    print(msg)\n",
    "    \n",
    "# shape는 tuple의 형태로 [0] indexing을 통해 값을 가져와서 분모로 썼다.\n",
    "# isnull(): null data인가?\n",
    "# sum(): True = 1, False = 0이기 때문에 null data의 개수를 가져오는 것이 된다."
   ]
  },
  {
   "cell_type": "code",
   "execution_count": 8,
   "id": "10be7ae4",
   "metadata": {
    "execution": {
     "iopub.execute_input": "2022-09-17T13:40:15.560078Z",
     "iopub.status.busy": "2022-09-17T13:40:15.558878Z",
     "iopub.status.idle": "2022-09-17T13:40:15.570077Z",
     "shell.execute_reply": "2022-09-17T13:40:15.568894Z"
    },
    "papermill": {
     "duration": 0.022007,
     "end_time": "2022-09-17T13:40:15.572430",
     "exception": false,
     "start_time": "2022-09-17T13:40:15.550423",
     "status": "completed"
    },
    "tags": []
   },
   "outputs": [
    {
     "name": "stdout",
     "output_type": "stream",
     "text": [
      "column PassengerId\t Percent of NaN value: 0.00%\n",
      "column     Pclass\t Percent of NaN value: 0.00%\n",
      "column       Name\t Percent of NaN value: 0.00%\n",
      "column        Sex\t Percent of NaN value: 0.00%\n",
      "column        Age\t Percent of NaN value: 20.57%\n",
      "column      SibSp\t Percent of NaN value: 0.00%\n",
      "column      Parch\t Percent of NaN value: 0.00%\n",
      "column     Ticket\t Percent of NaN value: 0.00%\n",
      "column       Fare\t Percent of NaN value: 0.24%\n",
      "column      Cabin\t Percent of NaN value: 78.23%\n",
      "column   Embarked\t Percent of NaN value: 0.00%\n"
     ]
    }
   ],
   "source": [
    "for col in df_test.columns:\n",
    "    msg = 'column {:>10}\\t Percent of NaN value: {:.2f}%'.format(col, 100 * (df_test[col].isnull().sum() / df_test[col].shape[0]))\n",
    "    print(msg)"
   ]
  },
  {
   "cell_type": "code",
   "execution_count": 9,
   "id": "22755c4d",
   "metadata": {
    "execution": {
     "iopub.execute_input": "2022-09-17T13:40:15.588363Z",
     "iopub.status.busy": "2022-09-17T13:40:15.587978Z",
     "iopub.status.idle": "2022-09-17T13:40:16.048035Z",
     "shell.execute_reply": "2022-09-17T13:40:16.047103Z"
    },
    "papermill": {
     "duration": 0.472069,
     "end_time": "2022-09-17T13:40:16.050958",
     "exception": false,
     "start_time": "2022-09-17T13:40:15.578889",
     "status": "completed"
    },
    "tags": []
   },
   "outputs": [
    {
     "data": {
      "text/plain": [
       "<AxesSubplot:>"
      ]
     },
     "execution_count": 9,
     "metadata": {},
     "output_type": "execute_result"
    },
    {
     "data": {
      "image/png": "[encoded data removed]",
      "text/plain": [
       "<Figure size 576x576 with 2 Axes>"
      ]
     },
     "metadata": {
      "needs_background": "light"
     },
     "output_type": "display_data"
    }
   ],
   "source": [
    "# null data 확인을 위한 missingno를 이용한 시각화\n",
    "\n",
    "# matrix: 어느 위치에 null data가 존재하는지 분포를 확인 가능\n",
    "msno.matrix(df=df_train.iloc[:, :], figsize=(8, 8), color=(0.8, 0.5, 0.2))"
   ]
  },
  {
   "cell_type": "code",
   "execution_count": 10,
   "id": "0b60baf3",
   "metadata": {
    "execution": {
     "iopub.execute_input": "2022-09-17T13:40:16.070779Z",
     "iopub.status.busy": "2022-09-17T13:40:16.069906Z",
     "iopub.status.idle": "2022-09-17T13:40:16.989728Z",
     "shell.execute_reply": "2022-09-17T13:40:16.988543Z"
    },
    "papermill": {
     "duration": 0.9318,
     "end_time": "2022-09-17T13:40:16.992731",
     "exception": false,
     "start_time": "2022-09-17T13:40:16.060931",
     "status": "completed"
    },
    "tags": []
   },
   "outputs": [
    {
     "data": {
      "text/plain": [
       "<AxesSubplot:>"
      ]
     },
     "execution_count": 10,
     "metadata": {},
     "output_type": "execute_result"
    },
    {
     "data": {
      "image/png": "[encoded data removed]",
      "text/plain": [
       "<Figure size 576x576 with 3 Axes>"
      ]
     },
     "metadata": {
      "needs_background": "light"
     },
     "output_type": "display_data"
    }
   ],
   "source": [
    "# bar: percent를 확인하여 얼만큼 null data가 많은지를 시각화\n",
    "msno.bar(df=df_train.iloc[:, :], figsize=(8, 8), color=(0.8, 0.5, 0.2))"
   ]
  },
  {
   "cell_type": "markdown",
   "id": "9e49d66e",
   "metadata": {
    "papermill": {
     "duration": 0.012086,
     "end_time": "2022-09-17T13:40:17.017680",
     "exception": false,
     "start_time": "2022-09-17T13:40:17.005594",
     "status": "completed"
    },
    "tags": []
   },
   "source": [
    "## 1.2 Target label 확인"
   ]
  },
  {
   "cell_type": "code",
   "execution_count": 11,
   "id": "ae8aba6b",
   "metadata": {
    "execution": {
     "iopub.execute_input": "2022-09-17T13:40:17.036647Z",
     "iopub.status.busy": "2022-09-17T13:40:17.035988Z",
     "iopub.status.idle": "2022-09-17T13:40:17.327696Z",
     "shell.execute_reply": "2022-09-17T13:40:17.326532Z"
    },
    "papermill": {
     "duration": 0.303586,
     "end_time": "2022-09-17T13:40:17.330248",
     "exception": false,
     "start_time": "2022-09-17T13:40:17.026662",
     "status": "completed"
    },
    "tags": []
   },
   "outputs": [
    {
     "data": {
      "image/png": "[encoded data removed]",
      "text/plain": [
       "<Figure size 1296x576 with 2 Axes>"
      ]
     },
     "metadata": {
      "needs_background": "light"
     },
     "output_type": "display_data"
    }
   ],
   "source": [
    "fig, axs = plt.subplots(1, 2, figsize=(18, 8))\n",
    "\n",
    "df_train['Survived'].value_counts().plot.pie(explode=[0, 0.1],\n",
    "                                            autopct='%1.1f%%', ax=axs[0])\n",
    "axs[0].set_title('Pie plot - Survived')\n",
    "axs[0].set_ylabel('')\n",
    "sns.countplot('Survived', data=df_train, ax=axs[1])\n",
    "axs[1].set_title('Count plot - Survived')\n",
    "\n",
    "plt.show()"
   ]
  },
  {
   "cell_type": "markdown",
   "id": "ca768111",
   "metadata": {
    "papermill": {
     "duration": 0.008597,
     "end_time": "2022-09-17T13:40:17.347834",
     "exception": false,
     "start_time": "2022-09-17T13:40:17.339237",
     "status": "completed"
    },
    "tags": []
   },
   "source": [
    "# 2. EDA(Exploratory Data Analysis)\n"
   ]
  },
  {
   "cell_type": "markdown",
   "id": "67e12ecb",
   "metadata": {
    "papermill": {
     "duration": 0.008422,
     "end_time": "2022-09-17T13:40:17.365112",
     "exception": false,
     "start_time": "2022-09-17T13:40:17.356690",
     "status": "completed"
    },
    "tags": []
   },
   "source": [
    "### 2.1 Pclass"
   ]
  },
  {
   "cell_type": "code",
   "execution_count": 12,
   "id": "8894798b",
   "metadata": {
    "execution": {
     "iopub.execute_input": "2022-09-17T13:40:17.384152Z",
     "iopub.status.busy": "2022-09-17T13:40:17.383744Z",
     "iopub.status.idle": "2022-09-17T13:40:17.397152Z",
     "shell.execute_reply": "2022-09-17T13:40:17.395959Z"
    },
    "papermill": {
     "duration": 0.025849,
     "end_time": "2022-09-17T13:40:17.399633",
     "exception": false,
     "start_time": "2022-09-17T13:40:17.373784",
     "status": "completed"
    },
    "tags": []
   },
   "outputs": [
    {
     "data": {
      "text/html": [
       "<div>\n",
       "<style scoped>\n",
       "    .dataframe tbody tr th:only-of-type {\n",
       "        vertical-align: middle;\n",
       "    }\n",
       "\n",
       "    .dataframe tbody tr th {\n",
       "        vertical-align: top;\n",
       "    }\n",
       "\n",
       "    .dataframe thead th {\n",
       "        text-align: right;\n",
       "    }\n",
       "</style>\n",
       "<table border=\"1\" class=\"dataframe\">\n",
       "  <thead>\n",
       "    <tr style=\"text-align: right;\">\n",
       "      <th></th>\n",
       "      <th>Survived</th>\n",
       "    </tr>\n",
       "    <tr>\n",
       "      <th>Pclass</th>\n",
       "      <th></th>\n",
       "    </tr>\n",
       "  </thead>\n",
       "  <tbody>\n",
       "    <tr>\n",
       "      <th>1</th>\n",
       "      <td>216</td>\n",
       "    </tr>\n",
       "    <tr>\n",
       "      <th>2</th>\n",
       "      <td>184</td>\n",
       "    </tr>\n",
       "    <tr>\n",
       "      <th>3</th>\n",
       "      <td>491</td>\n",
       "    </tr>\n",
       "  </tbody>\n",
       "</table>\n",
       "</div>"
      ],
      "text/plain": [
       "        Survived\n",
       "Pclass          \n",
       "1            216\n",
       "2            184\n",
       "3            491"
      ]
     },
     "execution_count": 12,
     "metadata": {},
     "output_type": "execute_result"
    }
   ],
   "source": [
    "# groupby(), 특정 기준으로 그룹핑할 때 활용\n",
    "# groupby()를 사용할 때는 반드시 aggregate하는 통계함수와 일반적으로 같이 적용\n",
    "# as_index: True면 Group Label을 index로 사용\n",
    "\n",
    "df_train[['Pclass', 'Survived']].groupby('Pclass', as_index=True).count()"
   ]
  },
  {
   "cell_type": "code",
   "execution_count": 13,
   "id": "297382d3",
   "metadata": {
    "execution": {
     "iopub.execute_input": "2022-09-17T13:40:17.419282Z",
     "iopub.status.busy": "2022-09-17T13:40:17.418381Z",
     "iopub.status.idle": "2022-09-17T13:40:17.431696Z",
     "shell.execute_reply": "2022-09-17T13:40:17.430561Z"
    },
    "papermill": {
     "duration": 0.02551,
     "end_time": "2022-09-17T13:40:17.434019",
     "exception": false,
     "start_time": "2022-09-17T13:40:17.408509",
     "status": "completed"
    },
    "tags": []
   },
   "outputs": [
    {
     "data": {
      "text/html": [
       "<div>\n",
       "<style scoped>\n",
       "    .dataframe tbody tr th:only-of-type {\n",
       "        vertical-align: middle;\n",
       "    }\n",
       "\n",
       "    .dataframe tbody tr th {\n",
       "        vertical-align: top;\n",
       "    }\n",
       "\n",
       "    .dataframe thead th {\n",
       "        text-align: right;\n",
       "    }\n",
       "</style>\n",
       "<table border=\"1\" class=\"dataframe\">\n",
       "  <thead>\n",
       "    <tr style=\"text-align: right;\">\n",
       "      <th></th>\n",
       "      <th>Survived</th>\n",
       "    </tr>\n",
       "    <tr>\n",
       "      <th>Pclass</th>\n",
       "      <th></th>\n",
       "    </tr>\n",
       "  </thead>\n",
       "  <tbody>\n",
       "    <tr>\n",
       "      <th>1</th>\n",
       "      <td>136</td>\n",
       "    </tr>\n",
       "    <tr>\n",
       "      <th>2</th>\n",
       "      <td>87</td>\n",
       "    </tr>\n",
       "    <tr>\n",
       "      <th>3</th>\n",
       "      <td>119</td>\n",
       "    </tr>\n",
       "  </tbody>\n",
       "</table>\n",
       "</div>"
      ],
      "text/plain": [
       "        Survived\n",
       "Pclass          \n",
       "1            136\n",
       "2             87\n",
       "3            119"
      ]
     },
     "execution_count": 13,
     "metadata": {},
     "output_type": "execute_result"
    }
   ],
   "source": [
    "df_train[['Pclass', 'Survived']].groupby(['Pclass'], as_index=True).sum()"
   ]
  },
  {
   "cell_type": "code",
   "execution_count": 14,
   "id": "7f41a627",
   "metadata": {
    "execution": {
     "iopub.execute_input": "2022-09-17T13:40:17.454309Z",
     "iopub.status.busy": "2022-09-17T13:40:17.453339Z",
     "iopub.status.idle": "2022-09-17T13:40:17.467171Z",
     "shell.execute_reply": "2022-09-17T13:40:17.465941Z"
    },
    "papermill": {
     "duration": 0.026328,
     "end_time": "2022-09-17T13:40:17.469547",
     "exception": false,
     "start_time": "2022-09-17T13:40:17.443219",
     "status": "completed"
    },
    "tags": []
   },
   "outputs": [
    {
     "data": {
      "text/html": [
       "<div>\n",
       "<style scoped>\n",
       "    .dataframe tbody tr th:only-of-type {\n",
       "        vertical-align: middle;\n",
       "    }\n",
       "\n",
       "    .dataframe tbody tr th {\n",
       "        vertical-align: top;\n",
       "    }\n",
       "\n",
       "    .dataframe thead th {\n",
       "        text-align: right;\n",
       "    }\n",
       "</style>\n",
       "<table border=\"1\" class=\"dataframe\">\n",
       "  <thead>\n",
       "    <tr style=\"text-align: right;\">\n",
       "      <th></th>\n",
       "      <th>Survived</th>\n",
       "    </tr>\n",
       "    <tr>\n",
       "      <th>Pclass</th>\n",
       "      <th></th>\n",
       "    </tr>\n",
       "  </thead>\n",
       "  <tbody>\n",
       "    <tr>\n",
       "      <th>1</th>\n",
       "      <td>0.629630</td>\n",
       "    </tr>\n",
       "    <tr>\n",
       "      <th>2</th>\n",
       "      <td>0.472826</td>\n",
       "    </tr>\n",
       "    <tr>\n",
       "      <th>3</th>\n",
       "      <td>0.242363</td>\n",
       "    </tr>\n",
       "  </tbody>\n",
       "</table>\n",
       "</div>"
      ],
      "text/plain": [
       "        Survived\n",
       "Pclass          \n",
       "1       0.629630\n",
       "2       0.472826\n",
       "3       0.242363"
      ]
     },
     "execution_count": 14,
     "metadata": {},
     "output_type": "execute_result"
    }
   ],
   "source": [
    "df_train[['Pclass', 'Survived']].groupby('Pclass', as_index=True).mean()\n",
    "# Pclass별로 생존률"
   ]
  },
  {
   "cell_type": "code",
   "execution_count": 15,
   "id": "7f5b7e1c",
   "metadata": {
    "execution": {
     "iopub.execute_input": "2022-09-17T13:40:17.489312Z",
     "iopub.status.busy": "2022-09-17T13:40:17.488967Z",
     "iopub.status.idle": "2022-09-17T13:40:17.597264Z",
     "shell.execute_reply": "2022-09-17T13:40:17.595805Z"
    },
    "papermill": {
     "duration": 0.120936,
     "end_time": "2022-09-17T13:40:17.599629",
     "exception": false,
     "start_time": "2022-09-17T13:40:17.478693",
     "status": "completed"
    },
    "tags": []
   },
   "outputs": [
    {
     "data": {
      "text/html": [
       "<style type=\"text/css\">\n",
       "#T_00360_row0_col0, #T_00360_row1_col1, #T_00360_row1_col2 {\n",
       "  background-color: #ffff66;\n",
       "  color: #000000;\n",
       "}\n",
       "#T_00360_row0_col1 {\n",
       "  background-color: #cee666;\n",
       "  color: #000000;\n",
       "}\n",
       "#T_00360_row0_col2 {\n",
       "  background-color: #f4fa66;\n",
       "  color: #000000;\n",
       "}\n",
       "#T_00360_row1_col0 {\n",
       "  background-color: #f6fa66;\n",
       "  color: #000000;\n",
       "}\n",
       "#T_00360_row2_col0 {\n",
       "  background-color: #60b066;\n",
       "  color: #f1f1f1;\n",
       "}\n",
       "#T_00360_row2_col1 {\n",
       "  background-color: #dfef66;\n",
       "  color: #000000;\n",
       "}\n",
       "#T_00360_row2_col2 {\n",
       "  background-color: #90c866;\n",
       "  color: #000000;\n",
       "}\n",
       "#T_00360_row3_col0, #T_00360_row3_col1, #T_00360_row3_col2 {\n",
       "  background-color: #008066;\n",
       "  color: #f1f1f1;\n",
       "}\n",
       "</style>\n",
       "<table id=\"T_00360_\">\n",
       "  <thead>\n",
       "    <tr>\n",
       "      <th class=\"index_name level0\" >Survived</th>\n",
       "      <th class=\"col_heading level0 col0\" >0</th>\n",
       "      <th class=\"col_heading level0 col1\" >1</th>\n",
       "      <th class=\"col_heading level0 col2\" >All</th>\n",
       "    </tr>\n",
       "    <tr>\n",
       "      <th class=\"index_name level0\" >Pclass</th>\n",
       "      <th class=\"blank col0\" >&nbsp;</th>\n",
       "      <th class=\"blank col1\" >&nbsp;</th>\n",
       "      <th class=\"blank col2\" >&nbsp;</th>\n",
       "    </tr>\n",
       "  </thead>\n",
       "  <tbody>\n",
       "    <tr>\n",
       "      <th id=\"T_00360_level0_row0\" class=\"row_heading level0 row0\" >1</th>\n",
       "      <td id=\"T_00360_row0_col0\" class=\"data row0 col0\" >80</td>\n",
       "      <td id=\"T_00360_row0_col1\" class=\"data row0 col1\" >136</td>\n",
       "      <td id=\"T_00360_row0_col2\" class=\"data row0 col2\" >216</td>\n",
       "    </tr>\n",
       "    <tr>\n",
       "      <th id=\"T_00360_level0_row1\" class=\"row_heading level0 row1\" >2</th>\n",
       "      <td id=\"T_00360_row1_col0\" class=\"data row1 col0\" >97</td>\n",
       "      <td id=\"T_00360_row1_col1\" class=\"data row1 col1\" >87</td>\n",
       "      <td id=\"T_00360_row1_col2\" class=\"data row1 col2\" >184</td>\n",
       "    </tr>\n",
       "    <tr>\n",
       "      <th id=\"T_00360_level0_row2\" class=\"row_heading level0 row2\" >3</th>\n",
       "      <td id=\"T_00360_row2_col0\" class=\"data row2 col0\" >372</td>\n",
       "      <td id=\"T_00360_row2_col1\" class=\"data row2 col1\" >119</td>\n",
       "      <td id=\"T_00360_row2_col2\" class=\"data row2 col2\" >491</td>\n",
       "    </tr>\n",
       "    <tr>\n",
       "      <th id=\"T_00360_level0_row3\" class=\"row_heading level0 row3\" >All</th>\n",
       "      <td id=\"T_00360_row3_col0\" class=\"data row3 col0\" >549</td>\n",
       "      <td id=\"T_00360_row3_col1\" class=\"data row3 col1\" >342</td>\n",
       "      <td id=\"T_00360_row3_col2\" class=\"data row3 col2\" >891</td>\n",
       "    </tr>\n",
       "  </tbody>\n",
       "</table>\n"
      ],
      "text/plain": [
       "<pandas.io.formats.style.Styler at 0x7efe75d5c750>"
      ]
     },
     "execution_count": 15,
     "metadata": {},
     "output_type": "execute_result"
    }
   ],
   "source": [
    "# crosstab을 이용한 시각화\n",
    "pd.crosstab(df_train['Pclass'], df_train['Survived'], margins=True).style.background_gradient(cmap='summer_r')"
   ]
  },
  {
   "cell_type": "code",
   "execution_count": 16,
   "id": "56862298",
   "metadata": {
    "execution": {
     "iopub.execute_input": "2022-09-17T13:40:17.620530Z",
     "iopub.status.busy": "2022-09-17T13:40:17.619905Z",
     "iopub.status.idle": "2022-09-17T13:40:17.839949Z",
     "shell.execute_reply": "2022-09-17T13:40:17.838656Z"
    },
    "papermill": {
     "duration": 0.23345,
     "end_time": "2022-09-17T13:40:17.842615",
     "exception": false,
     "start_time": "2022-09-17T13:40:17.609165",
     "status": "completed"
    },
    "tags": []
   },
   "outputs": [
    {
     "data": {
      "text/plain": [
       "<AxesSubplot:xlabel='Pclass'>"
      ]
     },
     "execution_count": 16,
     "metadata": {},
     "output_type": "execute_result"
    },
    {
     "data": {
      "image/png": "[encoded data removed]",
      "text/plain": [
       "<Figure size 432x288 with 1 Axes>"
      ]
     },
     "metadata": {
      "needs_background": "light"
     },
     "output_type": "display_data"
    }
   ],
   "source": [
    "# 생존률을 bar 그래프로 시각화\n",
    "df_train[['Pclass', 'Survived']].groupby(['Pclass'], as_index=True).mean().sort_values(by='Survived', ascending=False).plot.bar(color='#CD7F32')"
   ]
  },
  {
   "cell_type": "code",
   "execution_count": 17,
   "id": "feac8b62",
   "metadata": {
    "execution": {
     "iopub.execute_input": "2022-09-17T13:40:17.864013Z",
     "iopub.status.busy": "2022-09-17T13:40:17.863639Z",
     "iopub.status.idle": "2022-09-17T13:40:18.176890Z",
     "shell.execute_reply": "2022-09-17T13:40:18.175705Z"
    },
    "papermill": {
     "duration": 0.326773,
     "end_time": "2022-09-17T13:40:18.179396",
     "exception": false,
     "start_time": "2022-09-17T13:40:17.852623",
     "status": "completed"
    },
    "tags": []
   },
   "outputs": [
    {
     "data": {
      "image/png": "[encoded data removed]",
      "text/plain": [
       "<Figure size 1296x576 with 2 Axes>"
      ]
     },
     "metadata": {
      "needs_background": "light"
     },
     "output_type": "display_data"
    }
   ],
   "source": [
    "y_position = 1.02\n",
    "fig, axs = plt.subplots(1, 2, figsize=(18, 8))\n",
    "df_train['Pclass'].value_counts().plot.bar(color=['#CD7F32', '#FFDF00', '#D3D3D3'], ax = axs[0])\n",
    "axs[0].set_title('Number of Passenges By Pclass', y=y_position)\n",
    "axs[0].set_ylabel('Count')\n",
    "sns.countplot('Pclass', hue='Survived', data=df_train, ax = axs[1])\n",
    "axs[1].set_title('Pclass: Survived vs Dead', y=y_position)\n",
    "plt.show()"
   ]
  }
 ],
 "metadata": {
  "kernelspec": {
   "display_name": "Python 3",
   "language": "python",
   "name": "python3"
  },
  "language_info": {
   "codemirror_mode": {
    "name": "ipython",
    "version": 3
   },
   "file_extension": ".py",
   "mimetype": "text/x-python",
   "name": "python",
   "nbconvert_exporter": "python",
   "pygments_lexer": "ipython3",
   "version": "3.7.12"
  },
  "papermill": {
   "default_parameters": {},
   "duration": 13.109878,
   "end_time": "2022-09-17T13:40:18.911726",
   "environment_variables": {},
   "exception": null,
   "input_path": "__notebook__.ipynb",
   "output_path": "__notebook__.ipynb",
   "parameters": {},
   "start_time": "2022-09-17T13:40:05.801848",
   "version": "2.3.4"
  }
 },
 "nbformat": 4,
 "nbformat_minor": 5
}
