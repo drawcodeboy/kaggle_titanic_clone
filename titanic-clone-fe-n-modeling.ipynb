{
 "cells": [
  {
   "cell_type": "code",
   "execution_count": 1,
   "id": "749839ea",
   "metadata": {
    "_cell_guid": "b1076dfc-b9ad-4769-8c92-a6c4dae69d19",
    "_uuid": "8f2839f25d086af736a60e9eeb907d3b93b6e0e5",
    "execution": {
     "iopub.execute_input": "2022-09-19T14:50:44.747330Z",
     "iopub.status.busy": "2022-09-19T14:50:44.746864Z",
     "iopub.status.idle": "2022-09-19T14:50:44.760880Z",
     "shell.execute_reply": "2022-09-19T14:50:44.759491Z"
    },
    "papermill": {
     "duration": 0.027925,
     "end_time": "2022-09-19T14:50:44.763770",
     "exception": false,
     "start_time": "2022-09-19T14:50:44.735845",
     "status": "completed"
    },
    "tags": []
   },
   "outputs": [
    {
     "name": "stdout",
     "output_type": "stream",
     "text": [
      "/kaggle/input/titanic/train.csv\n",
      "/kaggle/input/titanic/test.csv\n",
      "/kaggle/input/titanic/gender_submission.csv\n"
     ]
    }
   ],
   "source": [
    "# This Python 3 environment comes with many helpful analytics libraries installed\n",
    "# It is defined by the kaggle/python Docker image: https://github.com/kaggle/docker-python\n",
    "# For example, here's several helpful packages to load\n",
    "\n",
    "import numpy as np # linear algebra\n",
    "import pandas as pd # data processing, CSV file I/O (e.g. pd.read_csv)\n",
    "\n",
    "# Input data files are available in the read-only \"../input/\" directory\n",
    "# For example, running this (by clicking run or pressing Shift+Enter) will list all files under the input directory\n",
    "\n",
    "import os\n",
    "for dirname, _, filenames in os.walk('/kaggle/input'):\n",
    "    for filename in filenames:\n",
    "        print(os.path.join(dirname, filename))\n",
    "\n",
    "# You can write up to 20GB to the current directory (/kaggle/working/) that gets preserved as output when you create a version using \"Save & Run All\" \n",
    "# You can also write temporary files to /kaggle/temp/, but they won't be saved outside of the current session"
   ]
  },
  {
   "cell_type": "code",
   "execution_count": 2,
   "id": "c347a87f",
   "metadata": {
    "execution": {
     "iopub.execute_input": "2022-09-19T14:50:44.778137Z",
     "iopub.status.busy": "2022-09-19T14:50:44.777318Z",
     "iopub.status.idle": "2022-09-19T14:50:46.028120Z",
     "shell.execute_reply": "2022-09-19T14:50:46.026789Z"
    },
    "papermill": {
     "duration": 1.261123,
     "end_time": "2022-09-19T14:50:46.030953",
     "exception": false,
     "start_time": "2022-09-19T14:50:44.769830",
     "status": "completed"
    },
    "tags": []
   },
   "outputs": [
    {
     "data": {
      "text/html": [
       "        <script type=\"text/javascript\">\n",
       "        window.PlotlyConfig = {MathJaxConfig: 'local'};\n",
       "        if (window.MathJax && window.MathJax.Hub && window.MathJax.Hub.Config) {window.MathJax.Hub.Config({SVG: {font: \"STIX-Web\"}});}\n",
       "        if (typeof require !== 'undefined') {\n",
       "        require.undef(\"plotly\");\n",
       "        requirejs.config({\n",
       "            paths: {\n",
       "                'plotly': ['https://cdn.plot.ly/plotly-2.14.0.min']\n",
       "            }\n",
       "        });\n",
       "        require(['plotly'], function(Plotly) {\n",
       "            window._Plotly = Plotly;\n",
       "        });\n",
       "        }\n",
       "        </script>\n",
       "        "
      ]
     },
     "metadata": {},
     "output_type": "display_data"
    }
   ],
   "source": [
    "import numpy as np\n",
    "import pandas as pd\n",
    "from pandas import Series\n",
    "import matplotlib.pyplot as plt\n",
    "import seaborn as sns\n",
    "\n",
    "plt.style.use('seaborn')\n",
    "sns.set(font_scale=2.5)\n",
    "\n",
    "import plotly.offline as py\n",
    "py.init_notebook_mode(connected=True)\n",
    "import plotly.graph_objs as go\n",
    "import plotly.tools as tls\n",
    "\n",
    "import warnings\n",
    "warnings.filterwarnings('ignore')\n",
    "\n",
    "%matplotlib inline\n",
    "\n",
    "df_train = pd.read_csv('../input/titanic/train.csv')\n",
    "df_test = pd.read_csv('../input/titanic/test.csv')\n",
    "df_train['FamilySize'] = df_train['SibSp'] + df_train['Parch'] + 1 # 자신을 포함해야하니 1을 더합니다\n",
    "df_test['FamilySize'] = df_test['SibSp'] + df_test['Parch'] + 1 # 자신을 포함해야하니 1을 더합니다\n",
    "\n",
    "df_test.loc[df_test.Fare.isnull(), 'Fare'] = df_test['Fare'].mean()\n",
    "\n",
    "df_train['Fare'] = df_train['Fare'].map(lambda i: np.log(i) if i > 0 else 0)\n",
    "df_test['Fare'] = df_test['Fare'].map(lambda i: np.log(i) if i > 0 else 0)"
   ]
  },
  {
   "cell_type": "markdown",
   "id": "a7c989ac",
   "metadata": {
    "papermill": {
     "duration": 0.005677,
     "end_time": "2022-09-19T14:50:46.042677",
     "exception": false,
     "start_time": "2022-09-19T14:50:46.037000",
     "status": "completed"
    },
    "tags": []
   },
   "source": [
    "# 3 Feature Engineering\n",
    "## 3.1 Fill Null"
   ]
  },
  {
   "cell_type": "markdown",
   "id": "5fadda18",
   "metadata": {
    "papermill": {
     "duration": 0.006118,
     "end_time": "2022-09-19T14:50:46.054804",
     "exception": false,
     "start_time": "2022-09-19T14:50:46.048686",
     "status": "completed"
    },
    "tags": []
   },
   "source": [
    "### 3.1.1 Fill Null in Age using title\n",
    ">* Age에 null data가 177개 있음, 이를 채우는 방법으로 title + statistics를 사용\n",
    ">* 영어에서는 Miss, Mrr, Mrs 같은 title이 존재, 이를 사용\n",
    ">* pandas series에는 data를 string으로 바꿔주는 str method, 거기에 정규표현식을 적용하게 해주는 extract method가 존재. 이를 사용하여 title을 쉽게 추출, title을 Initial Column에 저장"
   ]
  },
  {
   "cell_type": "code",
   "execution_count": 3,
   "id": "9aa794e5",
   "metadata": {
    "execution": {
     "iopub.execute_input": "2022-09-19T14:50:46.068475Z",
     "iopub.status.busy": "2022-09-19T14:50:46.068028Z",
     "iopub.status.idle": "2022-09-19T14:50:46.080699Z",
     "shell.execute_reply": "2022-09-19T14:50:46.079307Z"
    },
    "papermill": {
     "duration": 0.022364,
     "end_time": "2022-09-19T14:50:46.083056",
     "exception": false,
     "start_time": "2022-09-19T14:50:46.060692",
     "status": "completed"
    },
    "tags": []
   },
   "outputs": [],
   "source": [
    "# 이름을 정규표현식으로 추출해서 Initial이란 col 만들기\n",
    "df_train['Initial'] = df_train.Name.str.extract('([A-Za-z]+)\\.')\n",
    "df_test['Initial'] = df_test.Name.str.extract('([A-Za-z]+)\\.')"
   ]
  },
  {
   "cell_type": "code",
   "execution_count": 4,
   "id": "bc80b38c",
   "metadata": {
    "execution": {
     "iopub.execute_input": "2022-09-19T14:50:46.098799Z",
     "iopub.status.busy": "2022-09-19T14:50:46.098357Z",
     "iopub.status.idle": "2022-09-19T14:50:46.253245Z",
     "shell.execute_reply": "2022-09-19T14:50:46.252061Z"
    },
    "papermill": {
     "duration": 0.16671,
     "end_time": "2022-09-19T14:50:46.255776",
     "exception": false,
     "start_time": "2022-09-19T14:50:46.089066",
     "status": "completed"
    },
    "tags": []
   },
   "outputs": [
    {
     "data": {
      "text/html": [
       "<style type=\"text/css\">\n",
       "#T_964fe_row0_col0, #T_964fe_row0_col1, #T_964fe_row0_col3, #T_964fe_row0_col4, #T_964fe_row0_col5, #T_964fe_row0_col7, #T_964fe_row0_col8, #T_964fe_row0_col12, #T_964fe_row0_col15, #T_964fe_row0_col16, #T_964fe_row1_col2, #T_964fe_row1_col6, #T_964fe_row1_col9, #T_964fe_row1_col10, #T_964fe_row1_col11, #T_964fe_row1_col13, #T_964fe_row1_col14 {\n",
       "  background-color: #ffff66;\n",
       "  color: #000000;\n",
       "}\n",
       "#T_964fe_row0_col2, #T_964fe_row0_col6, #T_964fe_row0_col9, #T_964fe_row0_col10, #T_964fe_row0_col11, #T_964fe_row0_col13, #T_964fe_row0_col14, #T_964fe_row1_col0, #T_964fe_row1_col1, #T_964fe_row1_col3, #T_964fe_row1_col4, #T_964fe_row1_col5, #T_964fe_row1_col7, #T_964fe_row1_col8, #T_964fe_row1_col12, #T_964fe_row1_col15, #T_964fe_row1_col16 {\n",
       "  background-color: #008066;\n",
       "  color: #f1f1f1;\n",
       "}\n",
       "</style>\n",
       "<table id=\"T_964fe_\">\n",
       "  <thead>\n",
       "    <tr>\n",
       "      <th class=\"index_name level0\" >Initial</th>\n",
       "      <th class=\"col_heading level0 col0\" >Capt</th>\n",
       "      <th class=\"col_heading level0 col1\" >Col</th>\n",
       "      <th class=\"col_heading level0 col2\" >Countess</th>\n",
       "      <th class=\"col_heading level0 col3\" >Don</th>\n",
       "      <th class=\"col_heading level0 col4\" >Dr</th>\n",
       "      <th class=\"col_heading level0 col5\" >Jonkheer</th>\n",
       "      <th class=\"col_heading level0 col6\" >Lady</th>\n",
       "      <th class=\"col_heading level0 col7\" >Major</th>\n",
       "      <th class=\"col_heading level0 col8\" >Master</th>\n",
       "      <th class=\"col_heading level0 col9\" >Miss</th>\n",
       "      <th class=\"col_heading level0 col10\" >Mlle</th>\n",
       "      <th class=\"col_heading level0 col11\" >Mme</th>\n",
       "      <th class=\"col_heading level0 col12\" >Mr</th>\n",
       "      <th class=\"col_heading level0 col13\" >Mrs</th>\n",
       "      <th class=\"col_heading level0 col14\" >Ms</th>\n",
       "      <th class=\"col_heading level0 col15\" >Rev</th>\n",
       "      <th class=\"col_heading level0 col16\" >Sir</th>\n",
       "    </tr>\n",
       "    <tr>\n",
       "      <th class=\"index_name level0\" >Sex</th>\n",
       "      <th class=\"blank col0\" >&nbsp;</th>\n",
       "      <th class=\"blank col1\" >&nbsp;</th>\n",
       "      <th class=\"blank col2\" >&nbsp;</th>\n",
       "      <th class=\"blank col3\" >&nbsp;</th>\n",
       "      <th class=\"blank col4\" >&nbsp;</th>\n",
       "      <th class=\"blank col5\" >&nbsp;</th>\n",
       "      <th class=\"blank col6\" >&nbsp;</th>\n",
       "      <th class=\"blank col7\" >&nbsp;</th>\n",
       "      <th class=\"blank col8\" >&nbsp;</th>\n",
       "      <th class=\"blank col9\" >&nbsp;</th>\n",
       "      <th class=\"blank col10\" >&nbsp;</th>\n",
       "      <th class=\"blank col11\" >&nbsp;</th>\n",
       "      <th class=\"blank col12\" >&nbsp;</th>\n",
       "      <th class=\"blank col13\" >&nbsp;</th>\n",
       "      <th class=\"blank col14\" >&nbsp;</th>\n",
       "      <th class=\"blank col15\" >&nbsp;</th>\n",
       "      <th class=\"blank col16\" >&nbsp;</th>\n",
       "    </tr>\n",
       "  </thead>\n",
       "  <tbody>\n",
       "    <tr>\n",
       "      <th id=\"T_964fe_level0_row0\" class=\"row_heading level0 row0\" >female</th>\n",
       "      <td id=\"T_964fe_row0_col0\" class=\"data row0 col0\" >0</td>\n",
       "      <td id=\"T_964fe_row0_col1\" class=\"data row0 col1\" >0</td>\n",
       "      <td id=\"T_964fe_row0_col2\" class=\"data row0 col2\" >1</td>\n",
       "      <td id=\"T_964fe_row0_col3\" class=\"data row0 col3\" >0</td>\n",
       "      <td id=\"T_964fe_row0_col4\" class=\"data row0 col4\" >1</td>\n",
       "      <td id=\"T_964fe_row0_col5\" class=\"data row0 col5\" >0</td>\n",
       "      <td id=\"T_964fe_row0_col6\" class=\"data row0 col6\" >1</td>\n",
       "      <td id=\"T_964fe_row0_col7\" class=\"data row0 col7\" >0</td>\n",
       "      <td id=\"T_964fe_row0_col8\" class=\"data row0 col8\" >0</td>\n",
       "      <td id=\"T_964fe_row0_col9\" class=\"data row0 col9\" >182</td>\n",
       "      <td id=\"T_964fe_row0_col10\" class=\"data row0 col10\" >2</td>\n",
       "      <td id=\"T_964fe_row0_col11\" class=\"data row0 col11\" >1</td>\n",
       "      <td id=\"T_964fe_row0_col12\" class=\"data row0 col12\" >0</td>\n",
       "      <td id=\"T_964fe_row0_col13\" class=\"data row0 col13\" >125</td>\n",
       "      <td id=\"T_964fe_row0_col14\" class=\"data row0 col14\" >1</td>\n",
       "      <td id=\"T_964fe_row0_col15\" class=\"data row0 col15\" >0</td>\n",
       "      <td id=\"T_964fe_row0_col16\" class=\"data row0 col16\" >0</td>\n",
       "    </tr>\n",
       "    <tr>\n",
       "      <th id=\"T_964fe_level0_row1\" class=\"row_heading level0 row1\" >male</th>\n",
       "      <td id=\"T_964fe_row1_col0\" class=\"data row1 col0\" >1</td>\n",
       "      <td id=\"T_964fe_row1_col1\" class=\"data row1 col1\" >2</td>\n",
       "      <td id=\"T_964fe_row1_col2\" class=\"data row1 col2\" >0</td>\n",
       "      <td id=\"T_964fe_row1_col3\" class=\"data row1 col3\" >1</td>\n",
       "      <td id=\"T_964fe_row1_col4\" class=\"data row1 col4\" >6</td>\n",
       "      <td id=\"T_964fe_row1_col5\" class=\"data row1 col5\" >1</td>\n",
       "      <td id=\"T_964fe_row1_col6\" class=\"data row1 col6\" >0</td>\n",
       "      <td id=\"T_964fe_row1_col7\" class=\"data row1 col7\" >2</td>\n",
       "      <td id=\"T_964fe_row1_col8\" class=\"data row1 col8\" >40</td>\n",
       "      <td id=\"T_964fe_row1_col9\" class=\"data row1 col9\" >0</td>\n",
       "      <td id=\"T_964fe_row1_col10\" class=\"data row1 col10\" >0</td>\n",
       "      <td id=\"T_964fe_row1_col11\" class=\"data row1 col11\" >0</td>\n",
       "      <td id=\"T_964fe_row1_col12\" class=\"data row1 col12\" >517</td>\n",
       "      <td id=\"T_964fe_row1_col13\" class=\"data row1 col13\" >0</td>\n",
       "      <td id=\"T_964fe_row1_col14\" class=\"data row1 col14\" >0</td>\n",
       "      <td id=\"T_964fe_row1_col15\" class=\"data row1 col15\" >6</td>\n",
       "      <td id=\"T_964fe_row1_col16\" class=\"data row1 col16\" >1</td>\n",
       "    </tr>\n",
       "  </tbody>\n",
       "</table>\n"
      ],
      "text/plain": [
       "<pandas.io.formats.style.Styler at 0x7f33fe9207d0>"
      ]
     },
     "execution_count": 4,
     "metadata": {},
     "output_type": "execute_result"
    }
   ],
   "source": [
    "# 추출한 Initial과 Set간의 Count 관계 확인\n",
    "pd.crosstab(df_train['Initial'], df_train['Sex']).T.style.background_gradient(cmap='summer_r')"
   ]
  },
  {
   "cell_type": "code",
   "execution_count": 5,
   "id": "fa01ee3f",
   "metadata": {
    "execution": {
     "iopub.execute_input": "2022-09-19T14:50:46.269971Z",
     "iopub.status.busy": "2022-09-19T14:50:46.269569Z",
     "iopub.status.idle": "2022-09-19T14:50:46.282500Z",
     "shell.execute_reply": "2022-09-19T14:50:46.281318Z"
    },
    "papermill": {
     "duration": 0.02302,
     "end_time": "2022-09-19T14:50:46.285164",
     "exception": false,
     "start_time": "2022-09-19T14:50:46.262144",
     "status": "completed"
    },
    "tags": []
   },
   "outputs": [],
   "source": [
    "# replace method를 활용하여 특정 데이터 값을 원하는 값으로 치환한다.\n",
    "df_train['Initial'].replace(['Mlle','Mme','Ms','Dr','Major','Lady','Countess','Jonkheer','Col','Rev','Capt','Sir','Don', 'Dona'],\n",
    "                        ['Miss','Miss','Miss','Mr','Mr','Mrs','Mrs','Other','Other','Other','Mr','Mr','Mr', 'Mr'],inplace=True)\n",
    "\n",
    "df_test['Initial'].replace(['Mlle','Mme','Ms','Dr','Major','Lady','Countess','Jonkheer','Col','Rev','Capt','Sir','Don', 'Dona'],\n",
    "                        ['Miss','Miss','Miss','Mr','Mr','Mrs','Mrs','Other','Other','Other','Mr','Mr','Mr', 'Mr'],inplace=True)"
   ]
  },
  {
   "cell_type": "code",
   "execution_count": 6,
   "id": "ef076c29",
   "metadata": {
    "execution": {
     "iopub.execute_input": "2022-09-19T14:50:46.300153Z",
     "iopub.status.busy": "2022-09-19T14:50:46.299765Z",
     "iopub.status.idle": "2022-09-19T14:50:46.327065Z",
     "shell.execute_reply": "2022-09-19T14:50:46.325704Z"
    },
    "papermill": {
     "duration": 0.038011,
     "end_time": "2022-09-19T14:50:46.329775",
     "exception": false,
     "start_time": "2022-09-19T14:50:46.291764",
     "status": "completed"
    },
    "tags": []
   },
   "outputs": [
    {
     "data": {
      "text/html": [
       "<div>\n",
       "<style scoped>\n",
       "    .dataframe tbody tr th:only-of-type {\n",
       "        vertical-align: middle;\n",
       "    }\n",
       "\n",
       "    .dataframe tbody tr th {\n",
       "        vertical-align: top;\n",
       "    }\n",
       "\n",
       "    .dataframe thead th {\n",
       "        text-align: right;\n",
       "    }\n",
       "</style>\n",
       "<table border=\"1\" class=\"dataframe\">\n",
       "  <thead>\n",
       "    <tr style=\"text-align: right;\">\n",
       "      <th></th>\n",
       "      <th>PassengerId</th>\n",
       "      <th>Survived</th>\n",
       "      <th>Pclass</th>\n",
       "      <th>Age</th>\n",
       "      <th>SibSp</th>\n",
       "      <th>Parch</th>\n",
       "      <th>Fare</th>\n",
       "      <th>FamilySize</th>\n",
       "    </tr>\n",
       "    <tr>\n",
       "      <th>Initial</th>\n",
       "      <th></th>\n",
       "      <th></th>\n",
       "      <th></th>\n",
       "      <th></th>\n",
       "      <th></th>\n",
       "      <th></th>\n",
       "      <th></th>\n",
       "      <th></th>\n",
       "    </tr>\n",
       "  </thead>\n",
       "  <tbody>\n",
       "    <tr>\n",
       "      <th>Master</th>\n",
       "      <td>414.975000</td>\n",
       "      <td>0.575000</td>\n",
       "      <td>2.625000</td>\n",
       "      <td>4.574167</td>\n",
       "      <td>2.300000</td>\n",
       "      <td>1.375000</td>\n",
       "      <td>3.340710</td>\n",
       "      <td>4.675000</td>\n",
       "    </tr>\n",
       "    <tr>\n",
       "      <th>Miss</th>\n",
       "      <td>411.741935</td>\n",
       "      <td>0.704301</td>\n",
       "      <td>2.284946</td>\n",
       "      <td>21.860000</td>\n",
       "      <td>0.698925</td>\n",
       "      <td>0.537634</td>\n",
       "      <td>3.123713</td>\n",
       "      <td>2.236559</td>\n",
       "    </tr>\n",
       "    <tr>\n",
       "      <th>Mr</th>\n",
       "      <td>455.880907</td>\n",
       "      <td>0.162571</td>\n",
       "      <td>2.381853</td>\n",
       "      <td>32.739609</td>\n",
       "      <td>0.293006</td>\n",
       "      <td>0.151229</td>\n",
       "      <td>2.651507</td>\n",
       "      <td>1.444234</td>\n",
       "    </tr>\n",
       "    <tr>\n",
       "      <th>Mrs</th>\n",
       "      <td>456.393701</td>\n",
       "      <td>0.795276</td>\n",
       "      <td>1.984252</td>\n",
       "      <td>35.981818</td>\n",
       "      <td>0.692913</td>\n",
       "      <td>0.818898</td>\n",
       "      <td>3.443751</td>\n",
       "      <td>2.511811</td>\n",
       "    </tr>\n",
       "    <tr>\n",
       "      <th>Other</th>\n",
       "      <td>564.444444</td>\n",
       "      <td>0.111111</td>\n",
       "      <td>1.666667</td>\n",
       "      <td>45.888889</td>\n",
       "      <td>0.111111</td>\n",
       "      <td>0.111111</td>\n",
       "      <td>2.641605</td>\n",
       "      <td>1.222222</td>\n",
       "    </tr>\n",
       "  </tbody>\n",
       "</table>\n",
       "</div>"
      ],
      "text/plain": [
       "         PassengerId  Survived    Pclass        Age     SibSp     Parch  \\\n",
       "Initial                                                                   \n",
       "Master    414.975000  0.575000  2.625000   4.574167  2.300000  1.375000   \n",
       "Miss      411.741935  0.704301  2.284946  21.860000  0.698925  0.537634   \n",
       "Mr        455.880907  0.162571  2.381853  32.739609  0.293006  0.151229   \n",
       "Mrs       456.393701  0.795276  1.984252  35.981818  0.692913  0.818898   \n",
       "Other     564.444444  0.111111  1.666667  45.888889  0.111111  0.111111   \n",
       "\n",
       "             Fare  FamilySize  \n",
       "Initial                        \n",
       "Master   3.340710    4.675000  \n",
       "Miss     3.123713    2.236559  \n",
       "Mr       2.651507    1.444234  \n",
       "Mrs      3.443751    2.511811  \n",
       "Other    2.641605    1.222222  "
      ]
     },
     "execution_count": 6,
     "metadata": {},
     "output_type": "execute_result"
    }
   ],
   "source": [
    "df_train.groupby('Initial').mean()"
   ]
  },
  {
   "cell_type": "code",
   "execution_count": 7,
   "id": "7af0213c",
   "metadata": {
    "execution": {
     "iopub.execute_input": "2022-09-19T14:50:46.345007Z",
     "iopub.status.busy": "2022-09-19T14:50:46.344629Z",
     "iopub.status.idle": "2022-09-19T14:50:46.613166Z",
     "shell.execute_reply": "2022-09-19T14:50:46.612008Z"
    },
    "papermill": {
     "duration": 0.279166,
     "end_time": "2022-09-19T14:50:46.615689",
     "exception": false,
     "start_time": "2022-09-19T14:50:46.336523",
     "status": "completed"
    },
    "tags": []
   },
   "outputs": [
    {
     "data": {
      "text/plain": [
       "<AxesSubplot:xlabel='Initial'>"
      ]
     },
     "execution_count": 7,
     "metadata": {},
     "output_type": "execute_result"
    },
    {
     "data": {
      "image/png": "[encoded data removed]",
      "text/plain": [
       "<Figure size 432x288 with 1 Axes>"
      ]
     },
     "metadata": {
      "needs_background": "light"
     },
     "output_type": "display_data"
    }
   ],
   "source": [
    "# Initial별로 생존률 -> 여성과 관계있는 Miss, Mr, Mrs가 생존률이 높은 것으로 보인다.\n",
    "df_train.groupby('Initial')['Survived'].mean().plot.bar()"
   ]
  },
  {
   "cell_type": "markdown",
   "id": "468deee4",
   "metadata": {
    "papermill": {
     "duration": 0.006872,
     "end_time": "2022-09-19T14:50:46.629554",
     "exception": false,
     "start_time": "2022-09-19T14:50:46.622682",
     "status": "completed"
    },
    "tags": []
   },
   "source": [
    ">* 이제 본격적으로 Null 을 채울 것입니다. null data 를 채우는 방법은 정말 많이 존재합니다. <b>statistics 를 활용하는 방법</b>도 있고, <b>null data 가 없는 데이터를 기반으로 새로운 머신러닝 알고리즘을 만들어 예측해서 채워넣는 방식</b>도 있습니다. 여기서는 statistics 를 활용하는 방법을 사용할 것입니다.\n",
    ">* 여기서 statistics 는 train data 의 것을 의미합니다. 우리는 언제나 test 를 unseen 으로 둔 상태로 놔둬야 하며, train 에서 얻은 statistics 를 기반으로 test 의 null data 를 채워줘야 합니다."
   ]
  },
  {
   "cell_type": "code",
   "execution_count": 8,
   "id": "8ce4698f",
   "metadata": {
    "execution": {
     "iopub.execute_input": "2022-09-19T14:50:46.646376Z",
     "iopub.status.busy": "2022-09-19T14:50:46.645940Z",
     "iopub.status.idle": "2022-09-19T14:50:46.666806Z",
     "shell.execute_reply": "2022-09-19T14:50:46.665656Z"
    },
    "papermill": {
     "duration": 0.032536,
     "end_time": "2022-09-19T14:50:46.669290",
     "exception": false,
     "start_time": "2022-09-19T14:50:46.636754",
     "status": "completed"
    },
    "tags": []
   },
   "outputs": [
    {
     "data": {
      "text/html": [
       "<div>\n",
       "<style scoped>\n",
       "    .dataframe tbody tr th:only-of-type {\n",
       "        vertical-align: middle;\n",
       "    }\n",
       "\n",
       "    .dataframe tbody tr th {\n",
       "        vertical-align: top;\n",
       "    }\n",
       "\n",
       "    .dataframe thead th {\n",
       "        text-align: right;\n",
       "    }\n",
       "</style>\n",
       "<table border=\"1\" class=\"dataframe\">\n",
       "  <thead>\n",
       "    <tr style=\"text-align: right;\">\n",
       "      <th></th>\n",
       "      <th>PassengerId</th>\n",
       "      <th>Survived</th>\n",
       "      <th>Pclass</th>\n",
       "      <th>Age</th>\n",
       "      <th>SibSp</th>\n",
       "      <th>Parch</th>\n",
       "      <th>Fare</th>\n",
       "      <th>FamilySize</th>\n",
       "    </tr>\n",
       "    <tr>\n",
       "      <th>Initial</th>\n",
       "      <th></th>\n",
       "      <th></th>\n",
       "      <th></th>\n",
       "      <th></th>\n",
       "      <th></th>\n",
       "      <th></th>\n",
       "      <th></th>\n",
       "      <th></th>\n",
       "    </tr>\n",
       "  </thead>\n",
       "  <tbody>\n",
       "    <tr>\n",
       "      <th>Master</th>\n",
       "      <td>414.975000</td>\n",
       "      <td>0.575000</td>\n",
       "      <td>2.625000</td>\n",
       "      <td>4.574167</td>\n",
       "      <td>2.300000</td>\n",
       "      <td>1.375000</td>\n",
       "      <td>3.340710</td>\n",
       "      <td>4.675000</td>\n",
       "    </tr>\n",
       "    <tr>\n",
       "      <th>Miss</th>\n",
       "      <td>411.741935</td>\n",
       "      <td>0.704301</td>\n",
       "      <td>2.284946</td>\n",
       "      <td>21.860000</td>\n",
       "      <td>0.698925</td>\n",
       "      <td>0.537634</td>\n",
       "      <td>3.123713</td>\n",
       "      <td>2.236559</td>\n",
       "    </tr>\n",
       "    <tr>\n",
       "      <th>Mr</th>\n",
       "      <td>455.880907</td>\n",
       "      <td>0.162571</td>\n",
       "      <td>2.381853</td>\n",
       "      <td>32.739609</td>\n",
       "      <td>0.293006</td>\n",
       "      <td>0.151229</td>\n",
       "      <td>2.651507</td>\n",
       "      <td>1.444234</td>\n",
       "    </tr>\n",
       "    <tr>\n",
       "      <th>Mrs</th>\n",
       "      <td>456.393701</td>\n",
       "      <td>0.795276</td>\n",
       "      <td>1.984252</td>\n",
       "      <td>35.981818</td>\n",
       "      <td>0.692913</td>\n",
       "      <td>0.818898</td>\n",
       "      <td>3.443751</td>\n",
       "      <td>2.511811</td>\n",
       "    </tr>\n",
       "    <tr>\n",
       "      <th>Other</th>\n",
       "      <td>564.444444</td>\n",
       "      <td>0.111111</td>\n",
       "      <td>1.666667</td>\n",
       "      <td>45.888889</td>\n",
       "      <td>0.111111</td>\n",
       "      <td>0.111111</td>\n",
       "      <td>2.641605</td>\n",
       "      <td>1.222222</td>\n",
       "    </tr>\n",
       "  </tbody>\n",
       "</table>\n",
       "</div>"
      ],
      "text/plain": [
       "         PassengerId  Survived    Pclass        Age     SibSp     Parch  \\\n",
       "Initial                                                                   \n",
       "Master    414.975000  0.575000  2.625000   4.574167  2.300000  1.375000   \n",
       "Miss      411.741935  0.704301  2.284946  21.860000  0.698925  0.537634   \n",
       "Mr        455.880907  0.162571  2.381853  32.739609  0.293006  0.151229   \n",
       "Mrs       456.393701  0.795276  1.984252  35.981818  0.692913  0.818898   \n",
       "Other     564.444444  0.111111  1.666667  45.888889  0.111111  0.111111   \n",
       "\n",
       "             Fare  FamilySize  \n",
       "Initial                        \n",
       "Master   3.340710    4.675000  \n",
       "Miss     3.123713    2.236559  \n",
       "Mr       2.651507    1.444234  \n",
       "Mrs      3.443751    2.511811  \n",
       "Other    2.641605    1.222222  "
      ]
     },
     "execution_count": 8,
     "metadata": {},
     "output_type": "execute_result"
    }
   ],
   "source": [
    "df_train.groupby('Initial').mean()"
   ]
  },
  {
   "cell_type": "code",
   "execution_count": 9,
   "id": "b99b095c",
   "metadata": {
    "execution": {
     "iopub.execute_input": "2022-09-19T14:50:46.685742Z",
     "iopub.status.busy": "2022-09-19T14:50:46.685313Z",
     "iopub.status.idle": "2022-09-19T14:50:46.707413Z",
     "shell.execute_reply": "2022-09-19T14:50:46.706391Z"
    },
    "papermill": {
     "duration": 0.033727,
     "end_time": "2022-09-19T14:50:46.710086",
     "exception": false,
     "start_time": "2022-09-19T14:50:46.676359",
     "status": "completed"
    },
    "tags": []
   },
   "outputs": [],
   "source": [
    "# Initial에 따른 Age 평균 값을 null data에 채우기\n",
    "\n",
    "# train set\n",
    "df_train.loc[(df_train.Age.isnull())&(df_train.Initial=='Mr'),'Age']=33\n",
    "df_train.loc[(df_train.Age.isnull())&(df_train.Initial=='Mrs'),'Age'] = 36\n",
    "df_train.loc[(df_train.Age.isnull())&(df_train.Initial=='Master'),'Age'] = 5\n",
    "df_train.loc[(df_train.Age.isnull())&(df_train.Initial=='Miss'),'Age'] = 22\n",
    "df_train.loc[(df_train.Age.isnull())&(df_train.Initial=='Other'),'Age'] = 46\n",
    "\n",
    "# test set\n",
    "df_test.loc[(df_test.Age.isnull())&(df_test.Initial=='Mr'),'Age'] = 33\n",
    "df_test.loc[(df_test.Age.isnull())&(df_test.Initial=='Mrs'),'Age'] = 36\n",
    "df_test.loc[(df_test.Age.isnull())&(df_test.Initial=='Master'),'Age'] = 5\n",
    "df_test.loc[(df_test.Age.isnull())&(df_test.Initial=='Miss'),'Age'] = 22\n",
    "df_test.loc[(df_test.Age.isnull())&(df_test.Initial=='Other'),'Age'] = 46"
   ]
  },
  {
   "cell_type": "markdown",
   "id": "5355970b",
   "metadata": {
    "papermill": {
     "duration": 0.006877,
     "end_time": "2022-09-19T14:50:46.724150",
     "exception": false,
     "start_time": "2022-09-19T14:50:46.717273",
     "status": "completed"
    },
    "tags": []
   },
   "source": [
    "### 3.1.2 Fill Null in Embarked"
   ]
  },
  {
   "cell_type": "code",
   "execution_count": 10,
   "id": "d78d4b54",
   "metadata": {
    "execution": {
     "iopub.execute_input": "2022-09-19T14:50:46.740496Z",
     "iopub.status.busy": "2022-09-19T14:50:46.739723Z",
     "iopub.status.idle": "2022-09-19T14:50:46.746818Z",
     "shell.execute_reply": "2022-09-19T14:50:46.745425Z"
    },
    "papermill": {
     "duration": 0.018323,
     "end_time": "2022-09-19T14:50:46.749811",
     "exception": false,
     "start_time": "2022-09-19T14:50:46.731488",
     "status": "completed"
    },
    "tags": []
   },
   "outputs": [
    {
     "name": "stdout",
     "output_type": "stream",
     "text": [
      "Embarked has 2 Null values\n"
     ]
    }
   ],
   "source": [
    "print('Embarked has', df_train['Embarked'].isnull().sum(), 'Null values')"
   ]
  },
  {
   "cell_type": "markdown",
   "id": "4d1be6e1",
   "metadata": {
    "papermill": {
     "duration": 0.006841,
     "end_time": "2022-09-19T14:50:46.764937",
     "exception": false,
     "start_time": "2022-09-19T14:50:46.758096",
     "status": "completed"
    },
    "tags": []
   },
   "source": [
    ">* Embarked는 Null value가 2개이고, S에서 가장 많은 탑승객이 있었으므로, 간단하게 Null을 S로 채운다.\n",
    ">* dataframe 의 fillna method 를 이용하면 쉽게 채울 수 있습니다. 여기서 inplace=True 로 하면 df_train 에 fillna 를 실제로 적용하게 됩니다"
   ]
  },
  {
   "cell_type": "code",
   "execution_count": 11,
   "id": "dec66ea1",
   "metadata": {
    "execution": {
     "iopub.execute_input": "2022-09-19T14:50:46.780879Z",
     "iopub.status.busy": "2022-09-19T14:50:46.780499Z",
     "iopub.status.idle": "2022-09-19T14:50:46.786781Z",
     "shell.execute_reply": "2022-09-19T14:50:46.785535Z"
    },
    "papermill": {
     "duration": 0.016833,
     "end_time": "2022-09-19T14:50:46.788928",
     "exception": false,
     "start_time": "2022-09-19T14:50:46.772095",
     "status": "completed"
    },
    "tags": []
   },
   "outputs": [],
   "source": [
    "df_train['Embarked'].fillna('S', inplace=True)"
   ]
  },
  {
   "cell_type": "markdown",
   "id": "d87de6ce",
   "metadata": {
    "papermill": {
     "duration": 0.006818,
     "end_time": "2022-09-19T14:50:46.802953",
     "exception": false,
     "start_time": "2022-09-19T14:50:46.796135",
     "status": "completed"
    },
    "tags": []
   },
   "source": [
    "## 3.2 Change Age(continuous to categorical)\n",
    "\n",
    ">* Age 는 현재 continuous feature 입니다. 이대로 써도 모델을 세울 수 있지만, Age 를 몇개의 group 으로 나누어 category 화 시켜줄 수 도 있습니다. continuous 를 categorical 로 바꾸면 자칫 information loss 가 생길 수도 있습니다만, 본 튜토리얼에서는 다양한 방법을 소개하는 것이 목적이므로 진행하도록 하겠습니다.\n",
    ">* 방법은 여러가지가 있습니다. dataframe 의 indexing 방법인 loc 를 사용하여 직접해줄 수 있고, 아니면 apply 를 사용해 함수를 넣어줄 수 있습니다.\n",
    ">* 첫번째로 loc 를 사용한 방법입니다. loc 는 자주쓰게 되므로 그 사용법을 숙지하시면 좋습니다.\n",
    ">* 나이는 10살 간격으로 나누겠습니다."
   ]
  },
  {
   "cell_type": "code",
   "execution_count": 12,
   "id": "80210b75",
   "metadata": {
    "execution": {
     "iopub.execute_input": "2022-09-19T14:50:46.819172Z",
     "iopub.status.busy": "2022-09-19T14:50:46.818749Z",
     "iopub.status.idle": "2022-09-19T14:50:46.849514Z",
     "shell.execute_reply": "2022-09-19T14:50:46.848286Z"
    },
    "papermill": {
     "duration": 0.041867,
     "end_time": "2022-09-19T14:50:46.851991",
     "exception": false,
     "start_time": "2022-09-19T14:50:46.810124",
     "status": "completed"
    },
    "tags": []
   },
   "outputs": [],
   "source": [
    "# 1번째 방법\n",
    "\n",
    "df_train['Age_cat'] = 0\n",
    "df_train.loc[df_train['Age'] < 10, 'Age_cat'] = 0\n",
    "df_train.loc[(10 <= df_train['Age']) & (df_train['Age'] < 20), 'Age_cat'] = 1\n",
    "df_train.loc[(20 <= df_train['Age']) & (df_train['Age'] < 30), 'Age_cat'] = 2\n",
    "df_train.loc[(30 <= df_train['Age']) & (df_train['Age'] < 40), 'Age_cat'] = 3\n",
    "df_train.loc[(40 <= df_train['Age']) & (df_train['Age'] < 50), 'Age_cat'] = 4\n",
    "df_train.loc[(50 <= df_train['Age']) & (df_train['Age'] < 60), 'Age_cat'] = 5\n",
    "df_train.loc[(60 <= df_train['Age']) & (df_train['Age'] < 70), 'Age_cat'] = 6\n",
    "df_train.loc[70 <= df_train['Age'], 'Age_cat'] = 7\n",
    "\n",
    "df_test['Age_cat'] = 0\n",
    "df_test.loc[df_test['Age'] < 10, 'Age_cat'] = 0\n",
    "df_test.loc[(10 <= df_test['Age']) & (df_test['Age'] < 20), 'Age_cat'] = 1\n",
    "df_test.loc[(20 <= df_test['Age']) & (df_test['Age'] < 30), 'Age_cat'] = 2\n",
    "df_test.loc[(30 <= df_test['Age']) & (df_test['Age'] < 40), 'Age_cat'] = 3\n",
    "df_test.loc[(40 <= df_test['Age']) & (df_test['Age'] < 50), 'Age_cat'] = 4\n",
    "df_test.loc[(50 <= df_test['Age']) & (df_test['Age'] < 60), 'Age_cat'] = 5\n",
    "df_test.loc[(60 <= df_test['Age']) & (df_test['Age'] < 70), 'Age_cat'] = 6\n",
    "df_test.loc[70 <= df_test['Age'], 'Age_cat'] = 7"
   ]
  },
  {
   "cell_type": "code",
   "execution_count": 13,
   "id": "6a874f35",
   "metadata": {
    "execution": {
     "iopub.execute_input": "2022-09-19T14:50:46.868287Z",
     "iopub.status.busy": "2022-09-19T14:50:46.867846Z",
     "iopub.status.idle": "2022-09-19T14:50:46.877003Z",
     "shell.execute_reply": "2022-09-19T14:50:46.875726Z"
    },
    "papermill": {
     "duration": 0.020174,
     "end_time": "2022-09-19T14:50:46.879599",
     "exception": false,
     "start_time": "2022-09-19T14:50:46.859425",
     "status": "completed"
    },
    "tags": []
   },
   "outputs": [],
   "source": [
    "# 2번째 방법\n",
    "\n",
    "def category_age(x):\n",
    "    if x < 10:\n",
    "        return 0\n",
    "    elif x < 20:\n",
    "        return 1\n",
    "    elif x < 30:\n",
    "        return 2\n",
    "    elif x < 40:\n",
    "        return 3\n",
    "    elif x < 50:\n",
    "        return 4\n",
    "    elif x < 60:\n",
    "        return 5\n",
    "    elif x < 70:\n",
    "        return 6\n",
    "    else:\n",
    "        return 7    \n",
    "    \n",
    "df_train['Age_cat_2'] = df_train['Age'].apply(category_age)"
   ]
  },
  {
   "cell_type": "code",
   "execution_count": 14,
   "id": "0a5b0d1e",
   "metadata": {
    "execution": {
     "iopub.execute_input": "2022-09-19T14:50:46.896245Z",
     "iopub.status.busy": "2022-09-19T14:50:46.895494Z",
     "iopub.status.idle": "2022-09-19T14:50:46.902361Z",
     "shell.execute_reply": "2022-09-19T14:50:46.901229Z"
    },
    "papermill": {
     "duration": 0.018313,
     "end_time": "2022-09-19T14:50:46.905520",
     "exception": false,
     "start_time": "2022-09-19T14:50:46.887207",
     "status": "completed"
    },
    "tags": []
   },
   "outputs": [
    {
     "name": "stdout",
     "output_type": "stream",
     "text": [
      "1번 방법, 2번 방법 둘다 같은 결과를 내면 True 줘야함 ->  True\n"
     ]
    }
   ],
   "source": [
    "print('1번 방법, 2번 방법 둘다 같은 결과를 내면 True 줘야함 -> ', (df_train['Age_cat'] == df_train['Age_cat_2']).all())"
   ]
  },
  {
   "cell_type": "markdown",
   "id": "eb9e47e3",
   "metadata": {
    "papermill": {
     "duration": 0.006874,
     "end_time": "2022-09-19T14:50:46.920606",
     "exception": false,
     "start_time": "2022-09-19T14:50:46.913732",
     "status": "completed"
    },
    "tags": []
   },
   "source": [
    ">* 이제 중복되는 'Age_cat_2' 컬럼과 원래 컬럼 'Age'를 제거"
   ]
  },
  {
   "cell_type": "code",
   "execution_count": 15,
   "id": "14aff719",
   "metadata": {
    "execution": {
     "iopub.execute_input": "2022-09-19T14:50:46.936701Z",
     "iopub.status.busy": "2022-09-19T14:50:46.936306Z",
     "iopub.status.idle": "2022-09-19T14:50:46.955557Z",
     "shell.execute_reply": "2022-09-19T14:50:46.954188Z"
    },
    "papermill": {
     "duration": 0.03008,
     "end_time": "2022-09-19T14:50:46.957699",
     "exception": false,
     "start_time": "2022-09-19T14:50:46.927619",
     "status": "completed"
    },
    "tags": []
   },
   "outputs": [
    {
     "data": {
      "text/html": [
       "<div>\n",
       "<style scoped>\n",
       "    .dataframe tbody tr th:only-of-type {\n",
       "        vertical-align: middle;\n",
       "    }\n",
       "\n",
       "    .dataframe tbody tr th {\n",
       "        vertical-align: top;\n",
       "    }\n",
       "\n",
       "    .dataframe thead th {\n",
       "        text-align: right;\n",
       "    }\n",
       "</style>\n",
       "<table border=\"1\" class=\"dataframe\">\n",
       "  <thead>\n",
       "    <tr style=\"text-align: right;\">\n",
       "      <th></th>\n",
       "      <th>PassengerId</th>\n",
       "      <th>Survived</th>\n",
       "      <th>Pclass</th>\n",
       "      <th>Name</th>\n",
       "      <th>Sex</th>\n",
       "      <th>Age</th>\n",
       "      <th>SibSp</th>\n",
       "      <th>Parch</th>\n",
       "      <th>Ticket</th>\n",
       "      <th>Fare</th>\n",
       "      <th>Cabin</th>\n",
       "      <th>Embarked</th>\n",
       "      <th>FamilySize</th>\n",
       "      <th>Initial</th>\n",
       "      <th>Age_cat</th>\n",
       "      <th>Age_cat_2</th>\n",
       "    </tr>\n",
       "  </thead>\n",
       "  <tbody>\n",
       "    <tr>\n",
       "      <th>0</th>\n",
       "      <td>1</td>\n",
       "      <td>0</td>\n",
       "      <td>3</td>\n",
       "      <td>Braund, Mr. Owen Harris</td>\n",
       "      <td>male</td>\n",
       "      <td>22.0</td>\n",
       "      <td>1</td>\n",
       "      <td>0</td>\n",
       "      <td>A/5 21171</td>\n",
       "      <td>1.981001</td>\n",
       "      <td>NaN</td>\n",
       "      <td>S</td>\n",
       "      <td>2</td>\n",
       "      <td>Mr</td>\n",
       "      <td>2</td>\n",
       "      <td>2</td>\n",
       "    </tr>\n",
       "    <tr>\n",
       "      <th>1</th>\n",
       "      <td>2</td>\n",
       "      <td>1</td>\n",
       "      <td>1</td>\n",
       "      <td>Cumings, Mrs. John Bradley (Florence Briggs Th...</td>\n",
       "      <td>female</td>\n",
       "      <td>38.0</td>\n",
       "      <td>1</td>\n",
       "      <td>0</td>\n",
       "      <td>PC 17599</td>\n",
       "      <td>4.266662</td>\n",
       "      <td>C85</td>\n",
       "      <td>C</td>\n",
       "      <td>2</td>\n",
       "      <td>Mrs</td>\n",
       "      <td>3</td>\n",
       "      <td>3</td>\n",
       "    </tr>\n",
       "    <tr>\n",
       "      <th>2</th>\n",
       "      <td>3</td>\n",
       "      <td>1</td>\n",
       "      <td>3</td>\n",
       "      <td>Heikkinen, Miss. Laina</td>\n",
       "      <td>female</td>\n",
       "      <td>26.0</td>\n",
       "      <td>0</td>\n",
       "      <td>0</td>\n",
       "      <td>STON/O2. 3101282</td>\n",
       "      <td>2.070022</td>\n",
       "      <td>NaN</td>\n",
       "      <td>S</td>\n",
       "      <td>1</td>\n",
       "      <td>Miss</td>\n",
       "      <td>2</td>\n",
       "      <td>2</td>\n",
       "    </tr>\n",
       "    <tr>\n",
       "      <th>3</th>\n",
       "      <td>4</td>\n",
       "      <td>1</td>\n",
       "      <td>1</td>\n",
       "      <td>Futrelle, Mrs. Jacques Heath (Lily May Peel)</td>\n",
       "      <td>female</td>\n",
       "      <td>35.0</td>\n",
       "      <td>1</td>\n",
       "      <td>0</td>\n",
       "      <td>113803</td>\n",
       "      <td>3.972177</td>\n",
       "      <td>C123</td>\n",
       "      <td>S</td>\n",
       "      <td>2</td>\n",
       "      <td>Mrs</td>\n",
       "      <td>3</td>\n",
       "      <td>3</td>\n",
       "    </tr>\n",
       "    <tr>\n",
       "      <th>4</th>\n",
       "      <td>5</td>\n",
       "      <td>0</td>\n",
       "      <td>3</td>\n",
       "      <td>Allen, Mr. William Henry</td>\n",
       "      <td>male</td>\n",
       "      <td>35.0</td>\n",
       "      <td>0</td>\n",
       "      <td>0</td>\n",
       "      <td>373450</td>\n",
       "      <td>2.085672</td>\n",
       "      <td>NaN</td>\n",
       "      <td>S</td>\n",
       "      <td>1</td>\n",
       "      <td>Mr</td>\n",
       "      <td>3</td>\n",
       "      <td>3</td>\n",
       "    </tr>\n",
       "  </tbody>\n",
       "</table>\n",
       "</div>"
      ],
      "text/plain": [
       "   PassengerId  Survived  Pclass  \\\n",
       "0            1         0       3   \n",
       "1            2         1       1   \n",
       "2            3         1       3   \n",
       "3            4         1       1   \n",
       "4            5         0       3   \n",
       "\n",
       "                                                Name     Sex   Age  SibSp  \\\n",
       "0                            Braund, Mr. Owen Harris    male  22.0      1   \n",
       "1  Cumings, Mrs. John Bradley (Florence Briggs Th...  female  38.0      1   \n",
       "2                             Heikkinen, Miss. Laina  female  26.0      0   \n",
       "3       Futrelle, Mrs. Jacques Heath (Lily May Peel)  female  35.0      1   \n",
       "4                           Allen, Mr. William Henry    male  35.0      0   \n",
       "\n",
       "   Parch            Ticket      Fare Cabin Embarked  FamilySize Initial  \\\n",
       "0      0         A/5 21171  1.981001   NaN        S           2      Mr   \n",
       "1      0          PC 17599  4.266662   C85        C           2     Mrs   \n",
       "2      0  STON/O2. 3101282  2.070022   NaN        S           1    Miss   \n",
       "3      0            113803  3.972177  C123        S           2     Mrs   \n",
       "4      0            373450  2.085672   NaN        S           1      Mr   \n",
       "\n",
       "   Age_cat  Age_cat_2  \n",
       "0        2          2  \n",
       "1        3          3  \n",
       "2        2          2  \n",
       "3        3          3  \n",
       "4        3          3  "
      ]
     },
     "execution_count": 15,
     "metadata": {},
     "output_type": "execute_result"
    }
   ],
   "source": [
    "df_train.head()"
   ]
  },
  {
   "cell_type": "code",
   "execution_count": 16,
   "id": "e2ffe2fb",
   "metadata": {
    "execution": {
     "iopub.execute_input": "2022-09-19T14:50:46.974429Z",
     "iopub.status.busy": "2022-09-19T14:50:46.974013Z",
     "iopub.status.idle": "2022-09-19T14:50:46.982132Z",
     "shell.execute_reply": "2022-09-19T14:50:46.981164Z"
    },
    "papermill": {
     "duration": 0.019372,
     "end_time": "2022-09-19T14:50:46.984477",
     "exception": false,
     "start_time": "2022-09-19T14:50:46.965105",
     "status": "completed"
    },
    "tags": []
   },
   "outputs": [],
   "source": [
    "df_train.drop(columns=['Age', 'Age_cat_2'], inplace=True)\n",
    "df_test.drop(columns=['Age'], inplace=True)"
   ]
  }
 ],
 "metadata": {
  "kernelspec": {
   "display_name": "Python 3",
   "language": "python",
   "name": "python3"
  },
  "language_info": {
   "codemirror_mode": {
    "name": "ipython",
    "version": 3
   },
   "file_extension": ".py",
   "mimetype": "text/x-python",
   "name": "python",
   "nbconvert_exporter": "python",
   "pygments_lexer": "ipython3",
   "version": "3.7.12"
  },
  "papermill": {
   "default_parameters": {},
   "duration": 12.272563,
   "end_time": "2022-09-19T14:50:47.713524",
   "environment_variables": {},
   "exception": null,
   "input_path": "__notebook__.ipynb",
   "output_path": "__notebook__.ipynb",
   "parameters": {},
   "start_time": "2022-09-19T14:50:35.440961",
   "version": "2.3.4"
  }
 },
 "nbformat": 4,
 "nbformat_minor": 5
}
